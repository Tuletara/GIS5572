{
 "cells": [
  {
   "cell_type": "markdown",
   "metadata": {},
   "source": [
    "## ETL for MN Geospatial Commons\n",
    "### Search, collect, & download data \n",
    "#### https://gisdata.mn.gov/content/?q=help/api"
   ]
  },
  {
   "cell_type": "code",
   "execution_count": 3,
   "metadata": {},
   "outputs": [],
   "source": [
    "# Import sherpa   https://www.pythonsherpa.com/tutorials/2/\n",
    "import pprint\n",
    "import requests     \n",
    "import json         \n",
    "import pandas as pd"
   ]
  },
  {
   "cell_type": "code",
   "execution_count": 4,
   "metadata": {},
   "outputs": [
    {
     "name": "stderr",
     "output_type": "stream",
     "text": [
      "C:\\Program Files\\ArcGIS\\Pro\\bin\\Python\\envs\\arcgispro-py3\\lib\\site-packages\\urllib3\\connectionpool.py:1004: InsecureRequestWarning: Unverified HTTPS request is being made to host 'gisdata.mn.gov'. Adding certificate verification is strongly advised. See: https://urllib3.readthedocs.io/en/latest/advanced-usage.html#ssl-warnings\n",
      "  InsecureRequestWarning,\n"
     ]
    }
   ],
   "source": [
    "# Package lists. MN Geo requires generic auth=('user', 'pass') \n",
    "response = requests.get('http://gisdata.mn.gov/api/3/action/package_list', auth=('user', 'pass'), verify=False)\n"
   ]
  },
  {
   "cell_type": "code",
   "execution_count": 5,
   "metadata": {},
   "outputs": [],
   "source": [
    "#response = requests.get(packages) \n",
    "\n",
    "# Use the json module to load CKAN's response into a dictionary\n",
    "response_dict = json.loads(response.content)\n",
    "\n",
    "# Check the contents of the response\n",
    "assert response_dict['success'] is True  # make sure if response is OK"
   ]
  },
  {
   "cell_type": "code",
   "execution_count": 6,
   "metadata": {},
   "outputs": [
    {
     "name": "stdout",
     "output_type": "stream",
     "text": [
      "901\n"
     ]
    }
   ],
   "source": [
    "datasets = response_dict['result']         # extract all the packages from the response\n",
    "print(len(datasets))                    # returns all datasets"
   ]
  },
  {
   "cell_type": "code",
   "execution_count": 7,
   "metadata": {},
   "outputs": [
    {
     "data": {
      "text/plain": [
       "['water-lake-basin-morphology',\n",
       " 'water-lake-bathymetry',\n",
       " 'water-lake-bathy-shaded-relief',\n",
       " 'water-lake-superior-basin',\n",
       " 'water-large-lakes-in-minnesota',\n",
       " 'water-major-river-centerlines',\n",
       " 'water-measured-kittle-routes',\n",
       " 'water-mgmnt-area-surface-water',\n",
       " 'water-mn-public-waters',\n",
       " 'water-national-hydrography-data',\n",
       " 'water-nat-wetlands-inv-2009-2014',\n",
       " 'water-nat-wetlands-inventory',\n",
       " 'water-prehist-hydrography',\n",
       " 'water-public-drainage-systems',\n",
       " 'water-shallow-lakes-id-by-wldlif',\n",
       " 'water-strahler-stream-order',\n",
       " 'water-trout-streams-pls-sections',\n",
       " 'water-wellhead-protection-areas',\n",
       " 'water-wild-and-scenic-rec-rivers',\n",
       " 'whaf']"
      ]
     },
     "execution_count": 7,
     "metadata": {},
     "output_type": "execute_result"
    }
   ],
   "source": [
    "datasets[-20:]  # Display metadata for packages"
   ]
  },
  {
   "cell_type": "markdown",
   "metadata": {},
   "source": [
    "### Select package & generate URL"
   ]
  },
  {
   "cell_type": "code",
   "execution_count": 8,
   "metadata": {},
   "outputs": [],
   "source": [
    "package = 'water-major-river-centerlines'  # Define dataset"
   ]
  },
  {
   "cell_type": "code",
   "execution_count": 9,
   "metadata": {},
   "outputs": [
    {
     "name": "stdout",
     "output_type": "stream",
     "text": [
      "{'license_title': 'License not specified', 'maintainer': None, 'relationships_as_object': [], 'private': False, 'maintainer_email': None, 'num_tags': 1, 'id': 'fa8b1ae1-e8f9-4cc0-87b5-982014dd080a', 'metadata_created': '2014-10-08T13:53:53.211804', 'metadata_modified': '2020-07-09T08:12:33.898447', 'author': None, 'author_email': None, 'state': 'active', 'version': None, 'creator_user_id': None, 'type': 'dataset', 'resources': [{'mimetype': None, 'cache_url': None, 'hash': '', 'description': '', 'gdrsResGuid': '', 'cache_last_updated': None, 'url': 'https://resources.gisdata.mn.gov/pub/gdrs/data/pub/us_mn_state_dnr/water_major_river_centerlines/metadata/preview.jpg', 'name': 'Static Preview - Sample Image', 'format': 'JPEG', 'package_id': 'fa8b1ae1-e8f9-4cc0-87b5-982014dd080a', 'created': '2020-07-09T08:12:34.159461', 'state': 'active', 'mimetype_inner': None, 'last_modified': None, 'position': 0, 'revision_id': 'd9830a4b-ec71-401d-ac52-014805b3eecc', 'url_type': None, 'id': '5c2b7a36-0c3c-4b13-8141-f624542bd2cf', 'resource_type': 'preview', 'size': None}, {'mimetype': None, 'cache_url': None, 'hash': '', 'description': '', 'gdrsResGuid': '{a0413046-4bd5-4719-95ac-6f957b69f0e5}', 'cache_last_updated': None, 'url': 'https://resources.gisdata.mn.gov/pub/gdrs/data/pub/us_mn_state_dnr/water_major_river_centerlines/shp_water_major_river_centerlines.zip', 'name': 'Shapefile', 'format': 'SHP', 'package_id': 'fa8b1ae1-e8f9-4cc0-87b5-982014dd080a', 'created': '2020-07-09T08:12:34.159473', 'state': 'active', 'mimetype_inner': None, 'last_modified': None, 'position': 1, 'revision_id': 'd9830a4b-ec71-401d-ac52-014805b3eecc', 'url_type': None, 'id': '42316257-cda5-45e1-adcc-b24e298d60b8', 'resource_type': 'shp', 'size': None}, {'mimetype': None, 'cache_url': None, 'hash': '', 'description': '', 'gdrsResGuid': '{43077cc9-8bcb-41ab-9905-dcb3776b7900}', 'cache_last_updated': None, 'url': 'https://resources.gisdata.mn.gov/pub/gdrs/data/pub/us_mn_state_dnr/water_major_river_centerlines/fgdb_water_major_river_centerlines.zip', 'name': 'ESRI File Geodatabase', 'format': 'fgdb', 'package_id': 'fa8b1ae1-e8f9-4cc0-87b5-982014dd080a', 'created': '2020-07-09T08:12:34.159477', 'state': 'active', 'mimetype_inner': None, 'last_modified': None, 'position': 2, 'revision_id': 'd9830a4b-ec71-401d-ac52-014805b3eecc', 'url_type': None, 'id': '02d18c97-da34-4889-88f0-c1f1142dc2d1', 'resource_type': 'fgdb', 'size': None}, {'mimetype': None, 'cache_url': None, 'hash': '', 'description': '', 'gdrsResGuid': '{f9aed3d7-b903-4539-a45c-f6f69b7b67cd}', 'cache_last_updated': None, 'url': 'https://resources.gisdata.mn.gov/pub/gdrs/data/pub/us_mn_state_dnr/water_major_river_centerlines/gpkg_water_major_river_centerlines.zip', 'name': 'OGC GeoPackage', 'format': 'gpkg', 'package_id': 'fa8b1ae1-e8f9-4cc0-87b5-982014dd080a', 'created': '2020-07-09T08:12:34.159480', 'state': 'active', 'mimetype_inner': None, 'last_modified': None, 'position': 3, 'revision_id': 'd9830a4b-ec71-401d-ac52-014805b3eecc', 'url_type': None, 'id': '9dcca4fc-6bbe-48d4-afb9-b3ed28228c3c', 'resource_type': 'gpkg', 'size': None}, {'mimetype': None, 'cache_url': None, 'hash': '', 'description': '', 'gdrsResGuid': 'None', 'cache_last_updated': None, 'url': 'https://resources.gisdata.mn.gov/pub/gdrs/data/pub/us_mn_state_dnr/water_major_river_centerlines/metadata/metadata.html', 'name': 'Full Metadata Record', 'format': 'HTML', 'package_id': 'fa8b1ae1-e8f9-4cc0-87b5-982014dd080a', 'created': '2020-07-09T08:12:34.159485', 'state': 'active', 'mimetype_inner': None, 'last_modified': None, 'position': 4, 'revision_id': 'd9830a4b-ec71-401d-ac52-014805b3eecc', 'url_type': None, 'id': 'a9679218-b89f-4e0d-a54c-eeee009b3381', 'resource_type': 'metadata', 'size': None}], 'num_resources': 5, 'tags': [{'vocabulary_id': None, 'state': 'active', 'display_name': 'inland waters', 'id': '141554ed-e5fe-4645-b64f-1c62bb66c4ab', 'name': 'inland waters'}], 'groups': [{'display_name': 'Inland Waters', 'description': 'Inland water features, drainage systems and their characteristics. Examples: rivers and glaciers, salt lakes, water utilization plans, dams, currents, floods, water quality, hydrographic charts', 'image_display_url': 'https://gisdata.mn.gov/categoryIcons/inlandwaters.png', 'title': 'Inland Waters', 'id': '2204b2e5-7990-4671-94cb-c94c161875df', 'name': 'inland-waters'}], 'license_id': 'notspecified', 'relationships_as_subject': [], 'organization': {'description': \"Working with citizens to conserve and manage the state's natural resources.\", 'created': '2013-11-27T08:45:38.519857', 'title': 'Natural Resources Department', 'name': 'us-mn-state-dnr', 'is_organization': True, 'state': 'active', 'image_url': 'https://gisdata.mn.gov/agencyLogos/mnLogo.jpg', 'revision_id': 'd4bec708-0afd-4421-a810-89383f5b1786', 'type': 'organization', 'id': '0c5bf59b-2a39-402d-bf12-bbf11cf3f201', 'approval_status': 'approved'}, 'name': 'water-major-river-centerlines', 'isopen': False, 'url': None, 'notes': 'This data layer represents stream centerlines for major rivers in Minnesota.<br/><br/>Major River Centerlines are maintained as tabular data and displayed as linear events on the <a href=\"https://resources.gisdata.mn.gov/pub/gdrs/data/pub/us_mn_state_dnr/water_major_river_centerlines/metadata/../../water_measured_kittle_routes/metadata/metadata.html\" target=_blank><b>Stream Routes with Kittle Numbers and Mile Measures</b></a> layer.  In the attribute table, designated segments extend from the FROM_MEAS (mile) to the TO_MEAS (mile) and have a total length = [LENGTH_MI] on a route with total length = [ROUTE_MI].', 'owner_org': '0c5bf59b-2a39-402d-bf12-bbf11cf3f201', 'extras': [{'key': 'dsMetadataUrl', 'value': 'https://resources.gisdata.mn.gov/pub/gdrs/data/pub/us_mn_state_dnr/water_major_river_centerlines/metadata/metadata.html'}, {'key': 'dsModifiedDate', 'value': '2018-11-16 00:35:13'}, {'key': 'dsOriginator', 'value': 'Minnesota Department of Natural Resources (DNR)'}, {'key': 'dsPeriodOfContent', 'value': '10/30/2013'}, {'key': 'dsPurpose', 'value': 'Cartographic purposes only.'}, {'key': 'gdrsDsGuid', 'value': '{a4d19b9b-7972-4162-b7bb-076977206f64}'}, {'key': 'spatial', 'value': '{\"type\":\"Polygon\",\"coordinates\":[[[-97.252252, 43.098198],[-97.252252, 49.340250], [-89.406737, 49.340250], [-89.406737, 43.098198], [-97.252252, 43.098198]]]}'}], 'title': 'Stream Routes - Major River Centerlines', 'revision_id': '3707455e-57c0-4a06-9780-ea8c94cd7945'}\n"
     ]
    },
    {
     "name": "stderr",
     "output_type": "stream",
     "text": [
      "C:\\Program Files\\ArcGIS\\Pro\\bin\\Python\\envs\\arcgispro-py3\\lib\\site-packages\\urllib3\\connectionpool.py:1004: InsecureRequestWarning: Unverified HTTPS request is being made to host 'gisdata.mn.gov'. Adding certificate verification is strongly advised. See: https://urllib3.readthedocs.io/en/latest/advanced-usage.html#ssl-warnings\n",
      "  InsecureRequestWarning,\n"
     ]
    }
   ],
   "source": [
    "# Base url for package information. \n",
    "base_url = 'https://gisdata.mn.gov/api/3/action/package_show?id='\n",
    "\n",
    "# Construct the url for the package of interest\n",
    "package_information_url = base_url + package\n",
    "\n",
    "# Make the HTTP request. MN Geo needs auth=('user', 'pass')\n",
    "package_information = requests.get(package_information_url, auth=('user', 'pass'), verify=False)\n",
    "\n",
    "# Use the json module to load CKAN's response into a dictionary\n",
    "package_dict = json.loads(package_information.content)\n",
    "\n",
    "# Check the contents of the response.\n",
    "assert package_dict['success'] is True  # again make sure if response is OK\n",
    "package_dict = package_dict['result']   # we only need the 'result' part from the dictionary\n",
    "\n",
    "print(package_dict)"
   ]
  },
  {
   "cell_type": "code",
   "execution_count": 10,
   "metadata": {},
   "outputs": [
    {
     "name": "stdout",
     "output_type": "stream",
     "text": [
      "Data url:     https://resources.gisdata.mn.gov/pub/gdrs/data/pub/us_mn_state_dnr/water_major_river_centerlines/gpkg_water_major_river_centerlines.zip\n"
     ]
    }
   ],
   "source": [
    "# Get the url for the data from the dictionary\n",
    "data_url = package_dict['resources'][3]['url']  # [3] access URL within metadata\n",
    "print('Data url:     ' + data_url)\n"
   ]
  },
  {
   "cell_type": "markdown",
   "metadata": {},
   "source": [
    "### Download zipfile"
   ]
  },
  {
   "cell_type": "code",
   "execution_count": 48,
   "metadata": {},
   "outputs": [],
   "source": [
    "import requests\n",
    "url = 'https://resources.gisdata.mn.gov/pub/gdrs/data/pub/us_mn_state_dnr/water_major_river_centerlines/gpkg_water_major_river_centerlines.zip'\n",
    " \n",
    "# download the file contents in binary format\n",
    "r = requests.get(url)\n",
    " \n",
    "with open(r\"C:\\Users\\mmMary\\Documents\\GIS_Classes\\GIS_5572\\Labs\\Lab1\\Test_files_dwnload\\rivers.zip\", \"wb\") as zip:\n",
    "    zip.write(r.content)"
   ]
  }
 ],
 "metadata": {
  "kernelspec": {
   "display_name": "Python 3",
   "language": "python",
   "name": "python3"
  },
  "language_info": {
   "codemirror_mode": {
    "name": "ipython",
    "version": 3
   },
   "file_extension": ".py",
   "mimetype": "text/x-python",
   "name": "python",
   "nbconvert_exporter": "python",
   "pygments_lexer": "ipython3",
   "version": "3.6.10"
  }
 },
 "nbformat": 4,
 "nbformat_minor": 4
}
