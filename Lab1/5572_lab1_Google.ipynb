{
 "cells": [
  {
   "cell_type": "markdown",
   "metadata": {},
   "source": [
    "### Google Places API\n",
    "### Search for a place in Google Maps"
   ]
  },
  {
   "cell_type": "code",
   "execution_count": 34,
   "metadata": {},
   "outputs": [],
   "source": [
    "# Get libraries\n",
    "import requests\n",
    "import json\n",
    "from urllib.parse import urlencode\n"
   ]
  },
  {
   "cell_type": "code",
   "execution_count": 26,
   "metadata": {},
   "outputs": [],
   "source": [
    "# Enter parameters \n",
    "\n",
    "base = \"https://maps.googleapis.com/maps/api/place/findplacefromtext/json\"\n",
    "params = {\n",
    "    #\"key\": insert_api_key,               # your api key\n",
    "    \"input\": \"thai restaurant\",          # What to search for\n",
    "    \"inputype\": \"textquery\",             # Search by phone # or text\n",
    "    \"fields\": \"formatted_address,name, geometry\"   # Info we want returned\n",
    "}  \n",
    "\n",
    "lat, long = 44.9809, -93.2706      # Enter in search location\n",
    "locationbias = f\"point:{lat},{long}\"       # or use default IP address biasing \n",
    "                                              \n",
    "param_encode = urlencode(params, locationbias)\n",
    "place_search = f\"{base}?{param_encode}\"   # Generate search url, make sure it works"
   ]
  },
  {
   "cell_type": "code",
   "execution_count": 9,
   "metadata": {},
   "outputs": [
    {
     "name": "stdout",
     "output_type": "stream",
     "text": [
      "200\n"
     ]
    }
   ],
   "source": [
    "r = requests.get(place_search)  # request info from server\n",
    "print(r.status_code)            # confirm response\n",
    "                     "
   ]
  },
  {
   "cell_type": "code",
   "execution_count": 43,
   "metadata": {},
   "outputs": [],
   "source": [
    "r.json()     # show results"
   ]
  }
 ],
 "metadata": {
  "kernelspec": {
   "display_name": "Python 3",
   "language": "python",
   "name": "python3"
  },
  "language_info": {
   "codemirror_mode": {
    "name": "ipython",
    "version": 3
   },
   "file_extension": ".py",
   "mimetype": "text/x-python",
   "name": "python",
   "nbconvert_exporter": "python",
   "pygments_lexer": "ipython3",
   "version": "3.6.10"
  }
 },
 "nbformat": 4,
 "nbformat_minor": 4
}
