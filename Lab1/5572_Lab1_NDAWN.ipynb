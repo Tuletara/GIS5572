{
 "cells": [
  {
   "cell_type": "markdown",
   "metadata": {},
   "source": [
    "### NDAWN ETL\n",
    "#### https://ndawn.ndsu.nodak.edu/"
   ]
  },
  {
   "cell_type": "code",
   "execution_count": null,
   "metadata": {},
   "outputs": [],
   "source": [
    "# The purpose is to download weather data from NDAWN website.\n",
    "# Create URLs, get a response from the server, & download a csv locally."
   ]
  },
  {
   "cell_type": "code",
   "execution_count": 1,
   "metadata": {},
   "outputs": [
    {
     "name": "stdout",
     "output_type": "stream",
     "text": [
      "https://ndawn.ndsu.nodak.edu/station-info.html?station=\n"
     ]
    }
   ],
   "source": [
    "# Base URL for weather station info\n",
    "\n",
    "station_info = 'https://ndawn.ndsu.nodak.edu/station-info.html?station='\n",
    "print(station_info)"
   ]
  },
  {
   "cell_type": "code",
   "execution_count": 3,
   "metadata": {},
   "outputs": [
    {
     "name": "stdout",
     "output_type": "stream",
     "text": [
      "https://ndawn.ndsu.nodak.edu/station-info.html?station=0\n",
      "https://ndawn.ndsu.nodak.edu/station-info.html?station=1\n",
      "https://ndawn.ndsu.nodak.edu/station-info.html?station=2\n",
      "https://ndawn.ndsu.nodak.edu/station-info.html?station=3\n",
      "https://ndawn.ndsu.nodak.edu/station-info.html?station=4\n",
      "https://ndawn.ndsu.nodak.edu/station-info.html?station=5\n",
      "https://ndawn.ndsu.nodak.edu/station-info.html?station=6\n",
      "https://ndawn.ndsu.nodak.edu/station-info.html?station=7\n",
      "https://ndawn.ndsu.nodak.edu/station-info.html?station=8\n",
      "https://ndawn.ndsu.nodak.edu/station-info.html?station=9\n",
      "https://ndawn.ndsu.nodak.edu/station-info.html?station=10\n",
      "https://ndawn.ndsu.nodak.edu/station-info.html?station=11\n",
      "https://ndawn.ndsu.nodak.edu/station-info.html?station=12\n",
      "https://ndawn.ndsu.nodak.edu/station-info.html?station=13\n",
      "https://ndawn.ndsu.nodak.edu/station-info.html?station=14\n",
      "https://ndawn.ndsu.nodak.edu/station-info.html?station=15\n",
      "https://ndawn.ndsu.nodak.edu/station-info.html?station=16\n",
      "https://ndawn.ndsu.nodak.edu/station-info.html?station=17\n",
      "https://ndawn.ndsu.nodak.edu/station-info.html?station=18\n",
      "https://ndawn.ndsu.nodak.edu/station-info.html?station=19\n",
      "https://ndawn.ndsu.nodak.edu/station-info.html?station=20\n",
      "https://ndawn.ndsu.nodak.edu/station-info.html?station=21\n",
      "https://ndawn.ndsu.nodak.edu/station-info.html?station=22\n",
      "https://ndawn.ndsu.nodak.edu/station-info.html?station=23\n",
      "https://ndawn.ndsu.nodak.edu/station-info.html?station=24\n",
      "https://ndawn.ndsu.nodak.edu/station-info.html?station=25\n",
      "https://ndawn.ndsu.nodak.edu/station-info.html?station=26\n",
      "https://ndawn.ndsu.nodak.edu/station-info.html?station=27\n",
      "https://ndawn.ndsu.nodak.edu/station-info.html?station=28\n",
      "https://ndawn.ndsu.nodak.edu/station-info.html?station=29\n",
      "https://ndawn.ndsu.nodak.edu/station-info.html?station=30\n",
      "https://ndawn.ndsu.nodak.edu/station-info.html?station=31\n",
      "https://ndawn.ndsu.nodak.edu/station-info.html?station=32\n",
      "https://ndawn.ndsu.nodak.edu/station-info.html?station=33\n",
      "https://ndawn.ndsu.nodak.edu/station-info.html?station=34\n",
      "https://ndawn.ndsu.nodak.edu/station-info.html?station=35\n",
      "https://ndawn.ndsu.nodak.edu/station-info.html?station=36\n",
      "https://ndawn.ndsu.nodak.edu/station-info.html?station=37\n",
      "https://ndawn.ndsu.nodak.edu/station-info.html?station=38\n",
      "https://ndawn.ndsu.nodak.edu/station-info.html?station=39\n",
      "https://ndawn.ndsu.nodak.edu/station-info.html?station=40\n",
      "https://ndawn.ndsu.nodak.edu/station-info.html?station=41\n",
      "https://ndawn.ndsu.nodak.edu/station-info.html?station=42\n",
      "https://ndawn.ndsu.nodak.edu/station-info.html?station=43\n",
      "https://ndawn.ndsu.nodak.edu/station-info.html?station=44\n",
      "https://ndawn.ndsu.nodak.edu/station-info.html?station=45\n",
      "https://ndawn.ndsu.nodak.edu/station-info.html?station=46\n",
      "https://ndawn.ndsu.nodak.edu/station-info.html?station=47\n",
      "https://ndawn.ndsu.nodak.edu/station-info.html?station=48\n",
      "https://ndawn.ndsu.nodak.edu/station-info.html?station=49\n",
      "https://ndawn.ndsu.nodak.edu/station-info.html?station=50\n",
      "https://ndawn.ndsu.nodak.edu/station-info.html?station=51\n",
      "https://ndawn.ndsu.nodak.edu/station-info.html?station=52\n",
      "https://ndawn.ndsu.nodak.edu/station-info.html?station=53\n",
      "https://ndawn.ndsu.nodak.edu/station-info.html?station=54\n",
      "https://ndawn.ndsu.nodak.edu/station-info.html?station=55\n",
      "https://ndawn.ndsu.nodak.edu/station-info.html?station=56\n",
      "https://ndawn.ndsu.nodak.edu/station-info.html?station=57\n",
      "https://ndawn.ndsu.nodak.edu/station-info.html?station=58\n",
      "https://ndawn.ndsu.nodak.edu/station-info.html?station=59\n",
      "https://ndawn.ndsu.nodak.edu/station-info.html?station=60\n",
      "https://ndawn.ndsu.nodak.edu/station-info.html?station=61\n",
      "https://ndawn.ndsu.nodak.edu/station-info.html?station=62\n",
      "https://ndawn.ndsu.nodak.edu/station-info.html?station=63\n",
      "https://ndawn.ndsu.nodak.edu/station-info.html?station=64\n",
      "https://ndawn.ndsu.nodak.edu/station-info.html?station=65\n",
      "https://ndawn.ndsu.nodak.edu/station-info.html?station=66\n",
      "https://ndawn.ndsu.nodak.edu/station-info.html?station=67\n",
      "https://ndawn.ndsu.nodak.edu/station-info.html?station=68\n",
      "https://ndawn.ndsu.nodak.edu/station-info.html?station=69\n",
      "https://ndawn.ndsu.nodak.edu/station-info.html?station=70\n",
      "https://ndawn.ndsu.nodak.edu/station-info.html?station=71\n",
      "https://ndawn.ndsu.nodak.edu/station-info.html?station=72\n",
      "https://ndawn.ndsu.nodak.edu/station-info.html?station=73\n",
      "https://ndawn.ndsu.nodak.edu/station-info.html?station=74\n",
      "https://ndawn.ndsu.nodak.edu/station-info.html?station=75\n",
      "https://ndawn.ndsu.nodak.edu/station-info.html?station=76\n",
      "https://ndawn.ndsu.nodak.edu/station-info.html?station=77\n",
      "https://ndawn.ndsu.nodak.edu/station-info.html?station=78\n",
      "https://ndawn.ndsu.nodak.edu/station-info.html?station=79\n",
      "https://ndawn.ndsu.nodak.edu/station-info.html?station=80\n",
      "https://ndawn.ndsu.nodak.edu/station-info.html?station=81\n",
      "https://ndawn.ndsu.nodak.edu/station-info.html?station=82\n",
      "https://ndawn.ndsu.nodak.edu/station-info.html?station=83\n",
      "https://ndawn.ndsu.nodak.edu/station-info.html?station=84\n",
      "https://ndawn.ndsu.nodak.edu/station-info.html?station=85\n",
      "https://ndawn.ndsu.nodak.edu/station-info.html?station=86\n",
      "https://ndawn.ndsu.nodak.edu/station-info.html?station=87\n",
      "https://ndawn.ndsu.nodak.edu/station-info.html?station=88\n",
      "https://ndawn.ndsu.nodak.edu/station-info.html?station=89\n",
      "https://ndawn.ndsu.nodak.edu/station-info.html?station=90\n",
      "https://ndawn.ndsu.nodak.edu/station-info.html?station=91\n",
      "https://ndawn.ndsu.nodak.edu/station-info.html?station=92\n",
      "https://ndawn.ndsu.nodak.edu/station-info.html?station=93\n",
      "https://ndawn.ndsu.nodak.edu/station-info.html?station=94\n",
      "https://ndawn.ndsu.nodak.edu/station-info.html?station=95\n",
      "https://ndawn.ndsu.nodak.edu/station-info.html?station=96\n",
      "https://ndawn.ndsu.nodak.edu/station-info.html?station=97\n",
      "https://ndawn.ndsu.nodak.edu/station-info.html?station=98\n",
      "https://ndawn.ndsu.nodak.edu/station-info.html?station=99\n",
      "https://ndawn.ndsu.nodak.edu/station-info.html?station=100\n",
      "https://ndawn.ndsu.nodak.edu/station-info.html?station=101\n",
      "https://ndawn.ndsu.nodak.edu/station-info.html?station=102\n",
      "https://ndawn.ndsu.nodak.edu/station-info.html?station=103\n",
      "https://ndawn.ndsu.nodak.edu/station-info.html?station=104\n",
      "https://ndawn.ndsu.nodak.edu/station-info.html?station=105\n",
      "https://ndawn.ndsu.nodak.edu/station-info.html?station=106\n",
      "https://ndawn.ndsu.nodak.edu/station-info.html?station=107\n",
      "https://ndawn.ndsu.nodak.edu/station-info.html?station=108\n",
      "https://ndawn.ndsu.nodak.edu/station-info.html?station=109\n",
      "https://ndawn.ndsu.nodak.edu/station-info.html?station=110\n",
      "https://ndawn.ndsu.nodak.edu/station-info.html?station=111\n",
      "https://ndawn.ndsu.nodak.edu/station-info.html?station=112\n",
      "https://ndawn.ndsu.nodak.edu/station-info.html?station=113\n",
      "https://ndawn.ndsu.nodak.edu/station-info.html?station=114\n",
      "https://ndawn.ndsu.nodak.edu/station-info.html?station=115\n",
      "https://ndawn.ndsu.nodak.edu/station-info.html?station=116\n",
      "https://ndawn.ndsu.nodak.edu/station-info.html?station=117\n",
      "https://ndawn.ndsu.nodak.edu/station-info.html?station=118\n",
      "https://ndawn.ndsu.nodak.edu/station-info.html?station=119\n",
      "https://ndawn.ndsu.nodak.edu/station-info.html?station=120\n",
      "https://ndawn.ndsu.nodak.edu/station-info.html?station=121\n",
      "https://ndawn.ndsu.nodak.edu/station-info.html?station=122\n",
      "https://ndawn.ndsu.nodak.edu/station-info.html?station=123\n",
      "https://ndawn.ndsu.nodak.edu/station-info.html?station=124\n",
      "https://ndawn.ndsu.nodak.edu/station-info.html?station=125\n",
      "https://ndawn.ndsu.nodak.edu/station-info.html?station=126\n",
      "https://ndawn.ndsu.nodak.edu/station-info.html?station=127\n",
      "https://ndawn.ndsu.nodak.edu/station-info.html?station=128\n",
      "https://ndawn.ndsu.nodak.edu/station-info.html?station=129\n",
      "https://ndawn.ndsu.nodak.edu/station-info.html?station=130\n",
      "https://ndawn.ndsu.nodak.edu/station-info.html?station=131\n",
      "https://ndawn.ndsu.nodak.edu/station-info.html?station=132\n",
      "https://ndawn.ndsu.nodak.edu/station-info.html?station=133\n",
      "https://ndawn.ndsu.nodak.edu/station-info.html?station=134\n",
      "https://ndawn.ndsu.nodak.edu/station-info.html?station=135\n",
      "https://ndawn.ndsu.nodak.edu/station-info.html?station=136\n",
      "https://ndawn.ndsu.nodak.edu/station-info.html?station=137\n",
      "https://ndawn.ndsu.nodak.edu/station-info.html?station=138\n",
      "https://ndawn.ndsu.nodak.edu/station-info.html?station=139\n"
     ]
    }
   ],
   "source": [
    "# Get URL for daily weather data for every station & store in a list\n",
    "\n",
    "for i in range(0,140):\n",
    "    print(station_info + str(i))"
   ]
  },
  {
   "cell_type": "code",
   "execution_count": 2,
   "metadata": {},
   "outputs": [],
   "source": [
    "# Use requests library to work with HTTP\n",
    "import requests"
   ]
  },
  {
   "cell_type": "code",
   "execution_count": 8,
   "metadata": {},
   "outputs": [],
   "source": [
    "# Get a response from the server for station 122, Feb 5 2021, rainfall\n",
    "r = requests.get(base + \"122&variable=ddr&year=2020&ttype=daily&quick_pick=7_d&begin_date=2021-02-05&end_date=2021-02-05\")"
   ]
  },
  {
   "cell_type": "code",
   "execution_count": 9,
   "metadata": {},
   "outputs": [
    {
     "data": {
      "text/plain": [
       "642"
      ]
     },
     "execution_count": 9,
     "metadata": {},
     "output_type": "execute_result"
    }
   ],
   "source": [
    "# Save file locally with:\n",
    "# open(\"file_name.csv\", \"wb\").write(r.content) \n",
    "# File name is arbitrary\n",
    "# Returns file size if successful\n",
    "\n",
    "open(\"weather122.csv\", \"wb\").write(r.content)  # wb = write binary or write"
   ]
  }
 ],
 "metadata": {
  "kernelspec": {
   "display_name": "Python 3",
   "language": "python",
   "name": "python3"
  },
  "language_info": {
   "codemirror_mode": {
    "name": "ipython",
    "version": 3
   },
   "file_extension": ".py",
   "mimetype": "text/x-python",
   "name": "python",
   "nbconvert_exporter": "python",
   "pygments_lexer": "ipython3",
   "version": "3.6.10"
  }
 },
 "nbformat": 4,
 "nbformat_minor": 4
}
