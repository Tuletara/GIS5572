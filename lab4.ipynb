{
 "cells": [
  {
   "cell_type": "markdown",
   "metadata": {},
   "source": [
    "## Collect temperature data from NDAWN & run interpolations.\n",
    "https://ndawn.ndsu.nodak.edu/"
   ]
  },
  {
   "cell_type": "code",
   "execution_count": 25,
   "metadata": {},
   "outputs": [],
   "source": [
    "import pandas as pd\n",
    "import requests\n",
    "from datetime import date\n",
    "from io import StringIO\n",
    "\n",
    "import arcpy\n",
    "arcpy.env.workspace = r'C:\\Users\\mmMary\\Documents\\GIS_Classes\\GIS_5572\\Labs\\Lab4\\lab4_map_ndawn\\lab4_map_ndawn.gdb'"
   ]
  },
  {
   "cell_type": "code",
   "execution_count": 26,
   "metadata": {},
   "outputs": [],
   "source": [
    "# sample code for rolling dates\n",
    "import pandas as pd\n",
    "from datetime import datetime, timedelta, date\n",
    "\n",
    "# https://www.codegrepper.com/code-examples/python/create+list+of+last+30+days+in+python"
   ]
  },
  {
   "cell_type": "code",
   "execution_count": 27,
   "metadata": {},
   "outputs": [
    {
     "name": "stdout",
     "output_type": "stream",
     "text": [
      "2021-03-19\n"
     ]
    }
   ],
   "source": [
    "# test date range\n",
    "\n",
    "DateStart = date.today().isoformat()  \n",
    "DateRolling = (date.today() - timedelta(days=30)).isoformat()\n",
    "print(DateRolling)"
   ]
  },
  {
   "cell_type": "code",
   "execution_count": 28,
   "metadata": {},
   "outputs": [
    {
     "data": {
      "text/plain": [
       "202761"
      ]
     },
     "execution_count": 28,
     "metadata": {},
     "output_type": "execute_result"
    }
   ],
   "source": [
    "# Construct API call for the request\n",
    "base = 'https://ndawn.ndsu.nodak.edu/table.csv?station=78&station=111&station=98&station=142&station=138&station=9&station=10&station=118&station=56&station=11&station=12&station=58&station=13&station=84&station=55&station=7&station=87&station=14&station=15&station=96&station=16&station=137&station=124&station=17&station=85&station=140&station=134&station=18&station=136&station=65&station=104&station=99&station=19&station=129&station=20&station=101&station=81&station=21&station=97&station=22&station=75&station=2&station=139&station=23&station=62&station=86&station=24&station=89&station=126&station=93&station=90&station=25&station=83&station=107&station=77&station=26&station=70&station=127&station=27&station=132&station=28&station=29&station=30&station=31&station=102&station=32&station=119&station=4&station=80&station=33&station=59&station=105&station=82&station=34&station=72&station=135&station=35&station=76&station=120&station=141&station=109&station=36&station=79&station=71&station=37&station=38&station=39&station=130&station=73&station=40&station=41&station=54&station=69&station=113&station=128&station=42&station=43&station=103&station=116&station=88&station=114&station=3&station=64&station=115&station=67&station=44&station=133&station=106&station=100&station=121&station=45&station=46&station=61&station=66&station=74&station=60&station=125&station=8&station=47&station=122&station=108&station=5&station=48&station=68&station=49&station=50&station=91&station=117&station=63&station=51&station=6&station=52&station=92&station=112&station=131&station=123&station=95&station=53&station=57&station=110&variable=ddavt&year=2021&ttype=daily&'\n",
    "dates = 'quick_pick=&begin_date='\n",
    "        \n",
    "# Get date range\n",
    "DateStart = date.today().isoformat()  \n",
    "DateEnd = (date.today() - timedelta(days=30)).isoformat()\n",
    "\n",
    "URL = str(base + dates + DateEnd +'&end_date=' + DateStart)\n",
    "        \n",
    "             \n",
    "# Request page\n",
    "resp = requests.get(URL) # Make API call\n",
    "url_content = resp.content  # Get content\n",
    "csv_file = open('30Days_temp.csv', 'wb')# Save file to disc\n",
    "csv_file.write(url_content) # Get file size\n",
    "\n",
    "# # If status code not 200, raise exception\n",
    "# if page.status_code != 200:\n",
    "#     raise Exception('URL request status not 200. Status code = ' + page.status_code)\n",
    "\n",
    "#     print('Request successful')"
   ]
  },
  {
   "cell_type": "code",
   "execution_count": 29,
   "metadata": {
    "scrolled": true
   },
   "outputs": [
    {
     "data": {
      "text/html": [
       "<div>\n",
       "<style scoped>\n",
       "    .dataframe tbody tr th:only-of-type {\n",
       "        vertical-align: middle;\n",
       "    }\n",
       "\n",
       "    .dataframe tbody tr th {\n",
       "        vertical-align: top;\n",
       "    }\n",
       "\n",
       "    .dataframe thead th {\n",
       "        text-align: right;\n",
       "    }\n",
       "</style>\n",
       "<table border=\"1\" class=\"dataframe\">\n",
       "  <thead>\n",
       "    <tr style=\"text-align: right;\">\n",
       "      <th></th>\n",
       "      <th>Station Name</th>\n",
       "      <th>Latitude</th>\n",
       "      <th>Longitude</th>\n",
       "      <th>Elevation</th>\n",
       "      <th>Year</th>\n",
       "      <th>Month</th>\n",
       "      <th>Day</th>\n",
       "      <th>Avg Temp</th>\n",
       "      <th>Avg Temp Flag</th>\n",
       "    </tr>\n",
       "  </thead>\n",
       "  <tbody>\n",
       "    <tr>\n",
       "      <th>0</th>\n",
       "      <td>NaN</td>\n",
       "      <td>deg</td>\n",
       "      <td>deg</td>\n",
       "      <td>ft</td>\n",
       "      <td>NaN</td>\n",
       "      <td>NaN</td>\n",
       "      <td>NaN</td>\n",
       "      <td>Degrees F</td>\n",
       "      <td>NaN</td>\n",
       "    </tr>\n",
       "    <tr>\n",
       "      <th>1</th>\n",
       "      <td>Ada</td>\n",
       "      <td>47.3211</td>\n",
       "      <td>-96.5139</td>\n",
       "      <td>910</td>\n",
       "      <td>2021.0</td>\n",
       "      <td>3.0</td>\n",
       "      <td>19.0</td>\n",
       "      <td>40.395</td>\n",
       "      <td>NaN</td>\n",
       "    </tr>\n",
       "    <tr>\n",
       "      <th>2</th>\n",
       "      <td>Ada</td>\n",
       "      <td>47.3211</td>\n",
       "      <td>-96.5139</td>\n",
       "      <td>910</td>\n",
       "      <td>2021.0</td>\n",
       "      <td>3.0</td>\n",
       "      <td>20.0</td>\n",
       "      <td>50.546</td>\n",
       "      <td>NaN</td>\n",
       "    </tr>\n",
       "    <tr>\n",
       "      <th>3</th>\n",
       "      <td>Ada</td>\n",
       "      <td>47.3211</td>\n",
       "      <td>-96.5139</td>\n",
       "      <td>910</td>\n",
       "      <td>2021.0</td>\n",
       "      <td>3.0</td>\n",
       "      <td>21.0</td>\n",
       "      <td>42.461</td>\n",
       "      <td>NaN</td>\n",
       "    </tr>\n",
       "    <tr>\n",
       "      <th>4</th>\n",
       "      <td>Ada</td>\n",
       "      <td>47.3211</td>\n",
       "      <td>-96.5139</td>\n",
       "      <td>910</td>\n",
       "      <td>2021.0</td>\n",
       "      <td>3.0</td>\n",
       "      <td>22.0</td>\n",
       "      <td>35.165</td>\n",
       "      <td>NaN</td>\n",
       "    </tr>\n",
       "    <tr>\n",
       "      <th>...</th>\n",
       "      <td>...</td>\n",
       "      <td>...</td>\n",
       "      <td>...</td>\n",
       "      <td>...</td>\n",
       "      <td>...</td>\n",
       "      <td>...</td>\n",
       "      <td>...</td>\n",
       "      <td>...</td>\n",
       "      <td>...</td>\n",
       "    </tr>\n",
       "    <tr>\n",
       "      <th>3926</th>\n",
       "      <td>Zeeland</td>\n",
       "      <td>46.013378</td>\n",
       "      <td>-99.687587</td>\n",
       "      <td>2070</td>\n",
       "      <td>2021.0</td>\n",
       "      <td>4.0</td>\n",
       "      <td>13.0</td>\n",
       "      <td>24.417</td>\n",
       "      <td>NaN</td>\n",
       "    </tr>\n",
       "    <tr>\n",
       "      <th>3927</th>\n",
       "      <td>Zeeland</td>\n",
       "      <td>46.013378</td>\n",
       "      <td>-99.687587</td>\n",
       "      <td>2070</td>\n",
       "      <td>2021.0</td>\n",
       "      <td>4.0</td>\n",
       "      <td>14.0</td>\n",
       "      <td>31.173</td>\n",
       "      <td>NaN</td>\n",
       "    </tr>\n",
       "    <tr>\n",
       "      <th>3928</th>\n",
       "      <td>Zeeland</td>\n",
       "      <td>46.013378</td>\n",
       "      <td>-99.687587</td>\n",
       "      <td>2070</td>\n",
       "      <td>2021.0</td>\n",
       "      <td>4.0</td>\n",
       "      <td>15.0</td>\n",
       "      <td>37.556</td>\n",
       "      <td>NaN</td>\n",
       "    </tr>\n",
       "    <tr>\n",
       "      <th>3929</th>\n",
       "      <td>Zeeland</td>\n",
       "      <td>46.013378</td>\n",
       "      <td>-99.687587</td>\n",
       "      <td>2070</td>\n",
       "      <td>2021.0</td>\n",
       "      <td>4.0</td>\n",
       "      <td>16.0</td>\n",
       "      <td>36.441</td>\n",
       "      <td>NaN</td>\n",
       "    </tr>\n",
       "    <tr>\n",
       "      <th>3930</th>\n",
       "      <td>Zeeland</td>\n",
       "      <td>46.013378</td>\n",
       "      <td>-99.687587</td>\n",
       "      <td>2070</td>\n",
       "      <td>2021.0</td>\n",
       "      <td>4.0</td>\n",
       "      <td>17.0</td>\n",
       "      <td>37.587</td>\n",
       "      <td>NaN</td>\n",
       "    </tr>\n",
       "  </tbody>\n",
       "</table>\n",
       "<p>3931 rows × 9 columns</p>\n",
       "</div>"
      ],
      "text/plain": [
       "     Station Name   Latitude   Longitude  ...   Day   Avg Temp  Avg Temp Flag\n",
       "0             NaN        deg         deg  ...   NaN  Degrees F            NaN\n",
       "1             Ada    47.3211    -96.5139  ...  19.0     40.395            NaN\n",
       "2             Ada    47.3211    -96.5139  ...  20.0     50.546            NaN\n",
       "3             Ada    47.3211    -96.5139  ...  21.0     42.461            NaN\n",
       "4             Ada    47.3211    -96.5139  ...  22.0     35.165            NaN\n",
       "...           ...        ...         ...  ...   ...        ...            ...\n",
       "3926      Zeeland  46.013378  -99.687587  ...  13.0     24.417            NaN\n",
       "3927      Zeeland  46.013378  -99.687587  ...  14.0     31.173            NaN\n",
       "3928      Zeeland  46.013378  -99.687587  ...  15.0     37.556            NaN\n",
       "3929      Zeeland  46.013378  -99.687587  ...  16.0     36.441            NaN\n",
       "3930      Zeeland  46.013378  -99.687587  ...  17.0     37.587            NaN\n",
       "\n",
       "[3931 rows x 9 columns]"
      ]
     },
     "execution_count": 29,
     "metadata": {},
     "output_type": "execute_result"
    }
   ],
   "source": [
    "# Read the table & disregard the top 3 rows of metadata\n",
    "test = pd.read_csv('30Days_temp.csv', skiprows = 3)\n",
    "test"
   ]
  },
  {
   "cell_type": "markdown",
   "metadata": {},
   "source": [
    "## The table must be manually edited to remove the top 3 rows of metadata before the monthly mean can be calculated. \n",
    "### There has to be a good way to do this here but that's undiscovered at this point. "
   ]
  },
  {
   "cell_type": "code",
   "execution_count": 43,
   "metadata": {},
   "outputs": [
    {
     "data": {
      "text/html": [
       "<h2>Output</h2>C:\\Users\\mmMary\\Documents\\GIS_Classes\\GIS_5572\\Labs\\Lab4\\lab4_map_ndawn\\lab4_map_ndawn.gdb\\Temp_ave<h2>Messages</h2>Start Time: Sunday, April 18, 2021 7:54:49 PM<br/>Succeeded at Sunday, April 18, 2021 7:54:49 PM (Elapsed Time: 0.34 seconds)<br/><style>.rendered_html td, .rendered_html th {text-align: left;}.rendered_html tbody {border: 1px solid black;}</style>"
      ],
      "text/plain": [
       "<Result 'C:\\\\Users\\\\mmMary\\\\Documents\\\\GIS_Classes\\\\GIS_5572\\\\Labs\\\\Lab4\\\\lab4_map_ndawn\\\\lab4_map_ndawn.gdb\\\\Temp_ave'>"
      ]
     },
     "execution_count": 43,
     "metadata": {},
     "output_type": "execute_result"
    }
   ],
   "source": [
    "# Run statistics summary to get one monthly temp average value for\n",
    "# each station, preserving lat, long, & elevation values also.\n",
    "\n",
    "rcpy.analysis.Statistics(\"last30Days_temp\", r\"C:\\Users\\mmMary\\Documents\\GIS_Classes\\GIS_5572\\Labs\\Lab4\\lab4_map_ndawn\\lab4_map_ndawn.gdb\\Temp_ave\", \"Avg_Temp_F MEAN\", None)"
   ]
  },
  {
   "cell_type": "markdown",
   "metadata": {},
   "source": [
    "### Display station points & label with the mean temperature"
   ]
  },
  {
   "cell_type": "code",
   "execution_count": null,
   "metadata": {
    "scrolled": true
   },
   "outputs": [],
   "source": [
    "# Map station points with display xy data  \n",
    "# Convert coordinates into points\n",
    "\n",
    "arcpy.management.XYTableToPoint(\"last30Days_temp.csv\", \"station_pts\", \"Longitude\", \"Latitude deg\", None, \"GEOGCS['GCS_WGS_1984',DATUM['D_WGS_1984',SPHEROID['WGS_1984',6378137.0,298.257223563]],PRIMEM['Greenwich',0.0],UNIT['Degree',0.0174532925199433]];-400 -400 1000000000;-100000 10000;-100000 10000;8.98315284119521E-09;0.001;0.001;IsHighPrecision\")"
   ]
  },
  {
   "cell_type": "code",
   "execution_count": null,
   "metadata": {
    "scrolled": false
   },
   "outputs": [],
   "source": [
    "# Add stations layer \n",
    "stations = arcpy.mp.lyr(\"station_pts.shp\")"
   ]
  },
  {
   "cell_type": "code",
   "execution_count": null,
   "metadata": {},
   "outputs": [],
   "source": [
    "aprx = arcpy.mp.ArcGISProject(\"CURRENT\")\n",
    "for m in aprx.listMaps(\"Map\"):\n",
    "    for lyr in m.listLayers(\"station_pts\"):\n",
    "        lblClass = lyr.listLabelClasses()[0]\n",
    "        print(lblClass.name)\n",
    "        lblClass.expression = \"$feature.MEAN_Ave_T\"\n",
    "        lyr.showLabels = True\n"
   ]
  },
  {
   "cell_type": "markdown",
   "metadata": {},
   "source": [
    "## Interpolation Methods \n",
    "### with esri default parameters."
   ]
  },
  {
   "cell_type": "code",
   "execution_count": null,
   "metadata": {},
   "outputs": [],
   "source": [
    "# Inverse Distance Weighted method\n",
    "out_raster = arcpy.sa.Idw(\"station_Temp_ave_XYTableToPoint\", \"Latitude_deg\", 0.014477764, 2, \"VARIABLE 12\", None); out_raster.save(r\"C:\\Users\\mmMary\\Documents\\GIS_Classes\\GIS_5572\\Labs\\Lab4\\lab4_map_ndawn\\lab4_map_ndawn.gdb\\Idw_station_1\")"
   ]
  },
  {
   "cell_type": "code",
   "execution_count": null,
   "metadata": {},
   "outputs": [],
   "source": [
    "# Kriging\n",
    "out_surface_raster = arcpy.sa.Kriging(\"station_pts\", \"MEAN_Avg_Temp__F\", \"Spherical 0.014478 # # #\", 0.014477764, \"VARIABLE 12\", None); out_surface_raster.save(r\"C:\\Users\\mmMary\\Documents\\GIS_Classes\\GIS_5572\\Labs\\Lab4\\lab4_map_ndawn\\lab4_map_ndawn.gdb\\Kriging\")"
   ]
  },
  {
   "cell_type": "code",
   "execution_count": null,
   "metadata": {},
   "outputs": [],
   "source": [
    "# Radial Basis Function\n",
    "arcpy.ga.RadialBasisFunctions(\"station_pts\", \"MEAN_Avg_Temp__F\", \"RBF_temp\", r\"C:\\Users\\mmMary\\Documents\\GIS_Classes\\GIS_5572\\Labs\\Lab4\\lab4_map_ndawn\\lab4_map_ndawn.gdb\\RBF_elev_spline\", 0.014477764, \"NBRTYPE=StandardCircular RADIUS=2.89314365250512 ANGLE=0 NBR_MAX=15 NBR_MIN=5 SECTOR_TYPE=ONE_SECTOR\", \"COMPLETELY_REGULARIZED_SPLINE\", None)"
   ]
  },
  {
   "cell_type": "code",
   "execution_count": null,
   "metadata": {},
   "outputs": [],
   "source": [
    "# Map station points with display xy data  \n",
    "# Convert coordinates into points\n",
    "arcpy.management.XYTableToPoint(\"station_stats\", r\"C:\\Users\\mmMary\\Documents\\GIS_Classes\\GIS_5572\\Labs\\Lab4\\lab4_map_ndawn\\lab4_map_ndawn.gdb\\station_pts\", \"Longitude\", \"Latitude_deg\", \"Elevation_ft\", \"GEOGCS['GCS_WGS_1984',DATUM['D_WGS_1984',SPHEROID['WGS_1984',6378137.0,298.257223563]],PRIMEM['Greenwich',0.0],UNIT['Degree',0.0174532925199433]],VERTCS['WGS_1984',DATUM['D_WGS_1984',SPHEROID['WGS_1984',6378137.0,298.257223563]],PARAMETER['Vertical_Shift',0.0],PARAMETER['Direction',1.0],UNIT['Meter',1.0]];-400 -400 1000000000;-100000 10000;-100000 10000;8.98315284119521E-09;0.001;0.001;IsHighPrecision\")"
   ]
  },
  {
   "cell_type": "markdown",
   "metadata": {},
   "source": [
    "https://www.earthdatascience.org/courses/intro-to-earth-data-science/scientific-data-structures-python/pandas-dataframes/import-csv-files-pandas-dataframes/\n",
    "\n",
    "https://stackoverflow.com/questions/18039057/python-pandas-error-tokenizing-data\n",
    "\n",
    "https://github.umn.edu/BISH0227/NDAWN_Weather_Scraper"
   ]
  }
 ],
 "metadata": {
  "kernelspec": {
   "display_name": "ArcGISPro",
   "language": "Python",
   "name": "python3"
  },
  "language_info": {
   "file_extension": ".py",
   "name": "python",
   "version": "3"
  }
 },
 "nbformat": 4,
 "nbformat_minor": 4
}
