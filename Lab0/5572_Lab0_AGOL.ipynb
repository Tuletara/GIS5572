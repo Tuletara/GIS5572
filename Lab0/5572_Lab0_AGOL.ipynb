{
 "cells": [
  {
   "cell_type": "markdown",
   "metadata": {},
   "source": [
    "## Welcome to your notebook.\n"
   ]
  },
  {
   "cell_type": "markdown",
   "metadata": {},
   "source": [
    "#### Run this cell to connect to your GIS and get started:"
   ]
  },
  {
   "cell_type": "code",
   "execution_count": 2,
   "metadata": {},
   "outputs": [
    {
     "name": "stderr",
     "output_type": "stream",
     "text": [
      "/opt/conda/lib/python3.6/site-packages/arcgis/gis/__init__.py:407: UserWarning: You are logged on as mheise_UMN with an administrator role, proceed with caution.\n",
      "  self.users.me.username)\n"
     ]
    }
   ],
   "source": [
    "from arcgis.gis import GIS   # Import gis & set my privileges\n",
    "\n",
    "gis = GIS(\"home\")"
   ]
  },
  {
   "cell_type": "markdown",
   "metadata": {},
   "source": [
    "#### Now you are ready to start!"
   ]
  },
  {
   "cell_type": "code",
   "execution_count": null,
   "metadata": {},
   "outputs": [],
   "source": []
  },
  {
   "cell_type": "code",
   "execution_count": 3,
   "metadata": {},
   "outputs": [
    {
     "data": {
      "text/html": [
       "<div class=\"item_container\" style=\"height: auto; overflow: hidden; border: 1px solid #cfcfcf; border-radius: 2px; background: #f6fafa; line-height: 1.21429em; padding: 10px;\">\n",
       "                    <div class=\"item_left\" style=\"width: 210px; float: left;\">\n",
       "                       <a href='https://www.arcgis.com/home/item.html?id=1cbf39f9aa2a4cebb59be2ad79e2e63b' target='_blank'>\n",
       "                        <img src='data:image/png;base64,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' width='200' height='133' class=\"itemThumbnail\">\n",
       "                       </a>\n",
       "                    </div>\n",
       "\n",
       "                    <div class=\"item_right\"     style=\"float: none; width: auto; overflow: hidden;\">\n",
       "                        <a href='https://www.arcgis.com/home/item.html?id=1cbf39f9aa2a4cebb59be2ad79e2e63b' target='_blank'><b>Lake_Co_road_centerlines</b>\n",
       "                        </a>\n",
       "                        <br/><img src='https://www.arcgis.com/home/js/jsapi/esri/css/images/item_type_icons/featureshosted16.png' style=\"vertical-align:middle;\">Feature Layer Collection by mheise_UMN\n",
       "                        <br/>Last Modified: February 03, 2021\n",
       "                        <br/>0 comments, 8 views\n",
       "                    </div>\n",
       "                </div>\n",
       "                "
      ],
      "text/plain": [
       "<Item title:\"Lake_Co_road_centerlines\" type:Feature Layer Collection owner:mheise_UMN>"
      ]
     },
     "execution_count": 3,
     "metadata": {},
     "output_type": "execute_result"
    }
   ],
   "source": [
    "# Item Added From Toolbar\n",
    "# Title: Lake_Co_road_centerlines | Type: Feature Service | Owner: mheise_UMN\n",
    "roads = gis.content.get(\"1cbf39f9aa2a4cebb59be2ad79e2e63b\")\n",
    "roads"
   ]
  },
  {
   "cell_type": "code",
   "execution_count": null,
   "metadata": {},
   "outputs": [],
   "source": []
  },
  {
   "cell_type": "code",
   "execution_count": 11,
   "metadata": {},
   "outputs": [],
   "source": [
    "from arcgis import features\n",
    "features.use_proximity.create_buffers?"
   ]
  },
  {
   "cell_type": "code",
   "execution_count": 7,
   "metadata": {},
   "outputs": [
    {
     "data": {
      "text/html": [
       "<div class=\"item_container\" style=\"height: auto; overflow: hidden; border: 1px solid #cfcfcf; border-radius: 2px; background: #f6fafa; line-height: 1.21429em; padding: 10px;\">\n",
       "                    <div class=\"item_left\" style=\"width: 210px; float: left;\">\n",
       "                       <a href='https://www.arcgis.com/home/item.html?id=c57e23b6daf244409dc45929ca490d79' target='_blank'>\n",
       "                        <img src='http://static.arcgis.com/images/desktopapp.png' class=\"itemThumbnail\">\n",
       "                       </a>\n",
       "                    </div>\n",
       "\n",
       "                    <div class=\"item_right\"     style=\"float: none; width: auto; overflow: hidden;\">\n",
       "                        <a href='https://www.arcgis.com/home/item.html?id=c57e23b6daf244409dc45929ca490d79' target='_blank'><b>road_AGOL</b>\n",
       "                        </a>\n",
       "                        <br/><img src='https://www.arcgis.com/home/js/jsapi/esri/css/images/item_type_icons/featureshosted16.png' style=\"vertical-align:middle;\">Feature Layer Collection by mheise_UMN\n",
       "                        <br/>Last Modified: February 04, 2021\n",
       "                        <br/>0 comments, 0 views\n",
       "                    </div>\n",
       "                </div>\n",
       "                "
      ],
      "text/plain": [
       "<Item title:\"road_AGOL\" type:Feature Layer Collection owner:mheise_UMN>"
      ]
     },
     "execution_count": 7,
     "metadata": {},
     "output_type": "execute_result"
    }
   ],
   "source": [
    "from arcgis import features\n",
    "features.use_proximity.create_buffers(roads, [15], units='Meters', output_name = 'road_AGOL')"
   ]
  },
  {
   "cell_type": "code",
   "execution_count": 9,
   "metadata": {},
   "outputs": [
    {
     "data": {
      "text/html": [
       "<div class=\"item_container\" style=\"height: auto; overflow: hidden; border: 1px solid #cfcfcf; border-radius: 2px; background: #f6fafa; line-height: 1.21429em; padding: 10px;\">\n",
       "                    <div class=\"item_left\" style=\"width: 210px; float: left;\">\n",
       "                       <a href='https://www.arcgis.com/home/item.html?id=c57e23b6daf244409dc45929ca490d79' target='_blank'>\n",
       "                        <img src='data:image/png;base64,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' width='200' height='133' class=\"itemThumbnail\">\n",
       "                       </a>\n",
       "                    </div>\n",
       "\n",
       "                    <div class=\"item_right\"     style=\"float: none; width: auto; overflow: hidden;\">\n",
       "                        <a href='https://www.arcgis.com/home/item.html?id=c57e23b6daf244409dc45929ca490d79' target='_blank'><b>road_AGOL</b>\n",
       "                        </a>\n",
       "                        <br/><img src='https://www.arcgis.com/home/js/jsapi/esri/css/images/item_type_icons/featureshosted16.png' style=\"vertical-align:middle;\">Feature Layer Collection by mheise_UMN\n",
       "                        <br/>Last Modified: February 04, 2021\n",
       "                        <br/>0 comments, 2 views\n",
       "                    </div>\n",
       "                </div>\n",
       "                "
      ],
      "text/plain": [
       "<Item title:\"road_AGOL\" type:Feature Layer Collection owner:mheise_UMN>"
      ]
     },
     "execution_count": 9,
     "metadata": {},
     "output_type": "execute_result"
    }
   ],
   "source": [
    "# Item Added From Toolbar\n",
    "# Title: road_AGOL | Type: Feature Service | Owner: mheise_UMN\n",
    "road_buffer = gis.content.get(\"c57e23b6daf244409dc45929ca490d79\")\n",
    "road_buffer"
   ]
  },
  {
   "cell_type": "code",
   "execution_count": null,
   "metadata": {},
   "outputs": [],
   "source": [
    "# Sources: https://www.youtube.com/watch?v=RUNBSYBLmX0"
   ]
  }
 ],
 "metadata": {
  "esriNotebookRuntime": {
   "notebookRuntimeName": "ArcGIS Notebook Python 3 Standard",
   "notebookRuntimeVersion": "4.0"
  },
  "kernelspec": {
   "display_name": "Python 3",
   "language": "python",
   "name": "python3"
  },
  "language_info": {
   "codemirror_mode": {
    "name": "ipython",
    "version": 3
   },
   "file_extension": ".py",
   "mimetype": "text/x-python",
   "name": "python",
   "nbconvert_exporter": "python",
   "pygments_lexer": "ipython3",
   "version": "3.6.10"
  }
 },
 "nbformat": 4,
 "nbformat_minor": 2
}
