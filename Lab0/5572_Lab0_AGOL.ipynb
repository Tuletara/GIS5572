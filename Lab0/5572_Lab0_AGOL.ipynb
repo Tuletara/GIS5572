{
 "cells": [
  {
   "cell_type": "markdown",
   "metadata": {},
   "source": [
    "## Welcome to your notebook.\n"
   ]
  },
  {
   "cell_type": "markdown",
   "metadata": {},
   "source": [
    "#### Run this cell to connect to your GIS and get started:"
   ]
  },
  {
   "cell_type": "code",
   "execution_count": 2,
   "metadata": {},
   "outputs": [
    {
     "name": "stderr",
     "output_type": "stream",
     "text": [
      "/opt/conda/lib/python3.6/site-packages/arcgis/gis/__init__.py:407: UserWarning: You are logged on as mheise_UMN with an administrator role, proceed with caution.\n",
      "  self.users.me.username)\n"
     ]
    }
   ],
   "source": [
    "from arcgis.gis import GIS   # Import gis & set my privileges\n",
    "\n",
    "gis = GIS(\"home\")"
   ]
  },
  {
   "cell_type": "markdown",
   "metadata": {},
   "source": [
    "#### Now you are ready to start!"
   ]
  },
  {
   "cell_type": "code",
   "execution_count": null,
   "metadata": {},
   "outputs": [],
   "source": []
  },
  {
   "cell_type": "code",
   "execution_count": 3,
   "metadata": {},
   "outputs": [
    {
     "data": {
      "text/html": [
       "<div class=\"item_container\" style=\"height: auto; overflow: hidden; border: 1px solid #cfcfcf; border-radius: 2px; background: #f6fafa; line-height: 1.21429em; padding: 10px;\">\n",
       "                    <div class=\"item_left\" style=\"width: 210px; float: left;\">\n",
       "                       <a href='https://www.arcgis.com/home/item.html?id=1cbf39f9aa2a4cebb59be2ad79e2e63b' target='_blank'>\n",
       "                        <img src='data:image/png;base64,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' width='200' height='133' class=\"itemThumbnail\">\n",
       "                       </a>\n",
       "                    </div>\n",
       "\n",
       "                    <div class=\"item_right\"     style=\"float: none; width: auto; overflow: hidden;\">\n",
       "                        <a href='https://www.arcgis.com/home/item.html?id=1cbf39f9aa2a4cebb59be2ad79e2e63b' target='_blank'><b>Lake_Co_road_centerlines</b>\n",
       "                        </a>\n",
       "                        <br/><img src='https://www.arcgis.com/home/js/jsapi/esri/css/images/item_type_icons/featureshosted16.png' style=\"vertical-align:middle;\">Feature Layer Collection by mheise_UMN\n",
       "                        <br/>Last Modified: February 03, 2021\n",
       "                        <br/>0 comments, 6 views\n",
       "                    </div>\n",
       "                </div>\n",
       "                "
      ],
      "text/plain": [
       "<Item title:\"Lake_Co_road_centerlines\" type:Feature Layer Collection owner:mheise_UMN>"
      ]
     },
     "execution_count": 3,
     "metadata": {},
     "output_type": "execute_result"
    }
   ],
   "source": [
    "# Item Added From Toolbar\n",
    "# Title: Lake_Co_road_centerlines | Type: Feature Service | Owner: mheise_UMN\n",
    "roads = gis.content.get(\"1cbf39f9aa2a4cebb59be2ad79e2e63b\")\n",
    "roads"
   ]
  },
  {
   "cell_type": "code",
   "execution_count": null,
   "metadata": {},
   "outputs": [],
   "source": []
  },
  {
   "cell_type": "code",
   "execution_count": 11,
   "metadata": {},
   "outputs": [],
   "source": [
    "from arcgis import features\n",
    "features.use_proximity.create_buffers?"
   ]
  },
  {
   "cell_type": "code",
   "execution_count": 12,
   "metadata": {},
   "outputs": [
    {
     "data": {
      "text/plain": [
       "<FeatureCollection>"
      ]
     },
     "execution_count": 12,
     "metadata": {},
     "output_type": "execute_result"
    }
   ],
   "source": [
    "from arcgis import features\n",
    "features.use_proximity.create_buffers(roads, [15], units='Meters')"
   ]
  },
  {
   "cell_type": "code",
   "execution_count": null,
   "metadata": {},
   "outputs": [],
   "source": [
    "# Sources: https://www.youtube.com/watch?v=RUNBSYBLmX0"
   ]
  }
 ],
 "metadata": {
  "esriNotebookRuntime": {
   "notebookRuntimeName": "ArcGIS Notebook Python 3 Standard",
   "notebookRuntimeVersion": "4.0"
  },
  "kernelspec": {
   "display_name": "Python 3",
   "language": "python",
   "name": "python3"
  },
  "language_info": {
   "codemirror_mode": {
    "name": "ipython",
    "version": 3
   },
   "file_extension": ".py",
   "mimetype": "text/x-python",
   "name": "python",
   "nbconvert_exporter": "python",
   "pygments_lexer": "ipython3",
   "version": "3.6.10"
  }
 },
 "nbformat": 4,
 "nbformat_minor": 2
}
