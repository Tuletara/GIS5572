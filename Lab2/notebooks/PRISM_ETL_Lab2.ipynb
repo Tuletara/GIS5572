{
 "cells": [
  {
   "cell_type": "markdown",
   "metadata": {},
   "source": [
    "# File Collection & Preparation\n",
    "## Files must be downloaded, unzipped, & projected. They are sourced from: https://prism.oregonstate.edu/normals/\n"
   ]
  },
  {
   "cell_type": "code",
   "execution_count": null,
   "metadata": {},
   "outputs": [],
   "source": [
    "# Import packages & set workspace\n",
    "import arcpy\n",
    "import requests as r\n",
    "from zipfile import ZipFile\n",
    "\n",
    "arcpy.env.workspace = r'C:\\Users\\mmMary\\Documents\\GIS_Classes\\GIS_5572\\Labs\\Lab2\\Lab2_take2.aprx'"
   ]
  },
  {
   "cell_type": "code",
   "execution_count": null,
   "metadata": {},
   "outputs": [],
   "source": [
    "# Sample url: 'http://services.nacse.org/prism/data/public/4km/<element>/<date>' \n",
    "base = 'http://services.nacse.org/prism/data/public/normals/4km'\n",
    "res = '4km'       # This defines the data resolution \n",
    "element = '/ppt'  # Precipitation\n",
    "date = '_all'  # PRISM variable for all normals\n",
    "\n",
    "r.get(base + element + date)   # API call for the data "
   ]
  },
  {
   "cell_type": "code",
   "execution_count": null,
   "metadata": {},
   "outputs": [],
   "source": [
    " # unzip file\n",
    "with ZipFile('PRISM_ppt_30yr_normal_4kmM2_annual_bil.zip', 'r') as zipObj:\n",
    "       # Extract all contents into PRISM_data folder\n",
    "    zipObj.extractall('PRISM_data')"
   ]
  },
  {
   "cell_type": "markdown",
   "metadata": {},
   "source": [
    "#### .bil files must match the map projected coordinates"
   ]
  },
  {
   "cell_type": "code",
   "execution_count": null,
   "metadata": {},
   "outputs": [],
   "source": [
    "# Project .bil files into map projection - USA_Contiguous_Albers_Equal_Area_Conic\n",
    "arcpy.Tmp.BatchProjectRaster(r\"C:\\Users\\mmMary\\Documents\\GIS_Classes\\GIS_5572\\Labs\\Lab2\\PRISM_data\\All_Normals_ppt\\PRISM_ppt_30yr_normal_4kmM2_01_bil.bil;C:\\Users\\mmMary\\Documents\\GIS_Classes\\GIS_5572\\Labs\\Lab2\\PRISM_data\\All_Normals_ppt\\PRISM_ppt_30yr_normal_4kmM2_02_bil.bil;C:\\Users\\mmMary\\Documents\\GIS_Classes\\GIS_5572\\Labs\\Lab2\\PRISM_data\\All_Normals_ppt\\PRISM_ppt_30yr_normal_4kmM2_03_bil.bil;C:\\Users\\mmMary\\Documents\\GIS_Classes\\GIS_5572\\Labs\\Lab2\\PRISM_data\\All_Normals_ppt\\PRISM_ppt_30yr_normal_4kmM2_04_bil.bil;C:\\Users\\mmMary\\Documents\\GIS_Classes\\GIS_5572\\Labs\\Lab2\\PRISM_data\\All_Normals_ppt\\PRISM_ppt_30yr_normal_4kmM2_05_bil.bil;C:\\Users\\mmMary\\Documents\\GIS_Classes\\GIS_5572\\Labs\\Lab2\\PRISM_data\\All_Normals_ppt\\PRISM_ppt_30yr_normal_4kmM2_06_bil.bil;C:\\Users\\mmMary\\Documents\\GIS_Classes\\GIS_5572\\Labs\\Lab2\\PRISM_data\\All_Normals_ppt\\PRISM_ppt_30yr_normal_4kmM2_07_bil.bil;C:\\Users\\mmMary\\Documents\\GIS_Classes\\GIS_5572\\Labs\\Lab2\\PRISM_data\\All_Normals_ppt\\PRISM_ppt_30yr_normal_4kmM2_08_bil.bil;C:\\Users\\mmMary\\Documents\\GIS_Classes\\GIS_5572\\Labs\\Lab2\\PRISM_data\\All_Normals_ppt\\PRISM_ppt_30yr_normal_4kmM2_09_bil.bil;C:\\Users\\mmMary\\Documents\\GIS_Classes\\GIS_5572\\Labs\\Lab2\\PRISM_data\\All_Normals_ppt\\PRISM_ppt_30yr_normal_4kmM2_10_bil.bil;C:\\Users\\mmMary\\Documents\\GIS_Classes\\GIS_5572\\Labs\\Lab2\\PRISM_data\\All_Normals_ppt\\PRISM_ppt_30yr_normal_4kmM2_11_bil.bil;C:\\Users\\mmMary\\Documents\\GIS_Classes\\GIS_5572\\Labs\\Lab2\\PRISM_data\\All_Normals_ppt\\PRISM_ppt_30yr_normal_4kmM2_12_bil.bil\", r\"C:\\Users\\mmMary\\Documents\\GIS_Classes\\GIS_5572\\Labs\\Lab2\\Lab2_take2\\Lab2_take2.gdb\\ppt_all_albers%Name%\", \"PROJCS['USA_Contiguous_Albers_Equal_Area_Conic',GEOGCS['GCS_North_American_1983',DATUM['D_North_American_1983',SPHEROID['GRS_1980',6378137.0,298.257222101]],PRIMEM['Greenwich',0.0],UNIT['Degree',0.0174532925199433]],PROJECTION['Albers'],PARAMETER['False_Easting',0.0],PARAMETER['False_Northing',0.0],PARAMETER['Central_Meridian',-96.0],PARAMETER['Standard_Parallel_1',29.5],PARAMETER['Standard_Parallel_2',45.5],PARAMETER['Latitude_Of_Origin',37.5],UNIT['Meter',1.0]]\", \"NEAREST\", \"4676.76577530616 4676.76577530615\", None, None, \"GEOGCS['GCS_North_American_1983',DATUM['D_North_American_1983',SPHEROID['GRS_1980',6378137.0,298.257222101]],PRIMEM['Greenwich',0.0],UNIT['Degree',0.0174532925199433]]\", \"NO_VERTICAL\")"
   ]
  },
  {
   "cell_type": "markdown",
   "metadata": {},
   "source": [
    "# Visualize with Animated Time Slider & Space Time Cube \n",
    "\n",
    "##  First convert .bil to netCDF animation.\n",
    "\n",
    "\n",
    "### This allows for the conversion of multiple time associated data into a multidimensional mosaic.\n",
    "\n",
    "#### It's a multi-step process:"
   ]
  },
  {
   "cell_type": "code",
   "execution_count": null,
   "metadata": {},
   "outputs": [],
   "source": [
    "# Create Mosaic Dataset\n",
    "arcpy.management.CreateMosaicDataset(r\"C:\\Users\\mmMary\\Documents\\GIS_Classes\\GIS_5572\\Labs\\Lab2\\Lab2_take2\\Lab2_take2.gdb\", \"ppt_30yr_all\", \"PROJCS['USA_Contiguous_Albers_Equal_Area_Conic',GEOGCS['GCS_North_American_1983',DATUM['D_North_American_1983',SPHEROID['GRS_1980',6378137.0,298.257222101]],PRIMEM['Greenwich',0.0],UNIT['Degree',0.0174532925199433]],PROJECTION['Albers'],PARAMETER['False_Easting',0.0],PARAMETER['False_Northing',0.0],PARAMETER['Central_Meridian',-96.0],PARAMETER['Standard_Parallel_1',29.5],PARAMETER['Standard_Parallel_2',45.5],PARAMETER['Latitude_Of_Origin',37.5],UNIT['Meter',1.0]]\", None, '', \"NONE\", None)"
   ]
  },
  {
   "cell_type": "code",
   "execution_count": null,
   "metadata": {},
   "outputs": [],
   "source": [
    "# Add Rasters to Mosaic Dataset\n",
    "arcpy.management.AddRastersToMosaicDataset(\"ppt_30yr_all\", \"Raster Dataset\", r\"C:\\Users\\mmMary\\Documents\\GIS_Classes\\GIS_5572\\Labs\\Lab2\\Lab2_take2\\Lab2_take2.gdb\\ppt_all_albersPRISM_ppt_30yr_normal_4kmM2_01_bil_bil;C:\\Users\\mmMary\\Documents\\GIS_Classes\\GIS_5572\\Labs\\Lab2\\Lab2_take2\\Lab2_take2.gdb\\ppt_all_albersPRISM_ppt_30yr_normal_4kmM2_02_bil_bil;C:\\Users\\mmMary\\Documents\\GIS_Classes\\GIS_5572\\Labs\\Lab2\\Lab2_take2\\Lab2_take2.gdb\\ppt_all_albersPRISM_ppt_30yr_normal_4kmM2_03_bil_bil;C:\\Users\\mmMary\\Documents\\GIS_Classes\\GIS_5572\\Labs\\Lab2\\Lab2_take2\\Lab2_take2.gdb\\ppt_all_albersPRISM_ppt_30yr_normal_4kmM2_04_bil_bil;C:\\Users\\mmMary\\Documents\\GIS_Classes\\GIS_5572\\Labs\\Lab2\\Lab2_take2\\Lab2_take2.gdb\\ppt_all_albersPRISM_ppt_30yr_normal_4kmM2_05_bil_bil;C:\\Users\\mmMary\\Documents\\GIS_Classes\\GIS_5572\\Labs\\Lab2\\Lab2_take2\\Lab2_take2.gdb\\ppt_all_albersPRISM_ppt_30yr_normal_4kmM2_06_bil_bil;C:\\Users\\mmMary\\Documents\\GIS_Classes\\GIS_5572\\Labs\\Lab2\\Lab2_take2\\Lab2_take2.gdb\\ppt_all_albersPRISM_ppt_30yr_normal_4kmM2_07_bil_bil;C:\\Users\\mmMary\\Documents\\GIS_Classes\\GIS_5572\\Labs\\Lab2\\Lab2_take2\\Lab2_take2.gdb\\ppt_all_albersPRISM_ppt_30yr_normal_4kmM2_08_bil_bil;C:\\Users\\mmMary\\Documents\\GIS_Classes\\GIS_5572\\Labs\\Lab2\\Lab2_take2\\Lab2_take2.gdb\\ppt_all_albersPRISM_ppt_30yr_normal_4kmM2_09_bil_bil;C:\\Users\\mmMary\\Documents\\GIS_Classes\\GIS_5572\\Labs\\Lab2\\Lab2_take2\\Lab2_take2.gdb\\ppt_all_albersPRISM_ppt_30yr_normal_4kmM2_10_bil_bil;C:\\Users\\mmMary\\Documents\\GIS_Classes\\GIS_5572\\Labs\\Lab2\\Lab2_take2\\Lab2_take2.gdb\\ppt_all_albersPRISM_ppt_30yr_normal_4kmM2_11_bil_bil;C:\\Users\\mmMary\\Documents\\GIS_Classes\\GIS_5572\\Labs\\Lab2\\Lab2_take2\\Lab2_take2.gdb\\ppt_all_albersPRISM_ppt_30yr_normal_4kmM2_12_bil_bil\", \"UPDATE_CELL_SIZES\", \"UPDATE_BOUNDARY\", \"NO_OVERVIEWS\", None, 0, 1500, None, '', \"SUBFOLDERS\", \"ALLOW_DUPLICATES\", \"NO_PYRAMIDS\", \"NO_STATISTICS\", \"NO_THUMBNAILS\", '', \"NO_FORCE_SPATIAL_REFERENCE\", \"NO_STATISTICS\", None, \"NO_PIXEL_CACHE\", r\"C:\\Users\\mmMary\\AppData\\Local\\ESRI\\rasterproxies\\ppt_30yr\")"
   ]
  },
  {
   "cell_type": "code",
   "execution_count": null,
   "metadata": {},
   "outputs": [],
   "source": [
    "# Calculate Fields for the Variable of interest & TimeStamp\n",
    "arcpy.management.CalculateField(r\"ppt_30yr_all\\Footprint\", \"Variable\", \"'ppt'\", \"PYTHON3\", '', \"TEXT\")\n",
    "arcpy.management.CalculateField(r\"ppt_30yr_all\\Footprint\", \"TimeStamp\", \"\"\"DateAdd(Date(2010,0,1), $feature.OBJECTID-1, 'month')\n",
    "\"\"\", \"ARCADE\", '', \"TEXT\")"
   ]
  },
  {
   "cell_type": "code",
   "execution_count": null,
   "metadata": {},
   "outputs": [],
   "source": [
    "# Build Multidimensional Info \n",
    "arcpy.md.BuildMultidimensionalInfo(\"ppt_30yr_all\", \"Variable\", \"TimeStamp # #\", \"Variable # #\")\n",
    "\n",
    "# Display layer properties & disable time  ??????\n",
    "\n",
    "import arcpy, datetime\n",
    "lyr = arcpy.mapping.Layer(r'C:\\Project\\Data\\Time\\TemperatureWithTime.lyr')\n",
    "if lyr.supports(\"TIME\"):\n",
    "    lyrTime = lyr.time\n",
    "else:\n",
    "    print \"No time available on the layer\""
   ]
  },
  {
   "cell_type": "code",
   "execution_count": null,
   "metadata": {},
   "outputs": [],
   "source": [
    "# Make Multidimensional Raster Layer\n",
    "arcpy.md.MakeMultidimensionalRasterLayer(\"ppt_30yr_all\", \"ppt_30yr_MultiD_3\", \"ppt\", \"ALL\", None, None, '', '', '', None, '', \"-2950369.1484 -1493460.28786507 3000585.29697136 1716251.6967\", \"DIMENSIONS\")"
   ]
  },
  {
   "cell_type": "code",
   "execution_count": null,
   "metadata": {},
   "outputs": [],
   "source": [
    "# Create Space Time Cube from Multidimensional Raster Layer\n",
    "arcpy.stpm.CreateSpaceTimeCubeMDRasterLayer(\"ppt_30yr_MultiD_3\", r\"C:\\Users\\mmMary\\Documents\\GIS_Classes\\GIS_5572\\Labs\\Lab2\\Lab2_take2\\ppt_30yr_SPT_3.nc\", \"ZEROS\")"
   ]
  },
  {
   "cell_type": "code",
   "execution_count": null,
   "metadata": {},
   "outputs": [],
   "source": [
    "# Visualize Space Time Cube in 3D\n",
    "arcpy.stpm.VisualizeSpaceTimeCube3D(r\"C:\\Users\\mmMary\\Documents\\GIS_Classes\\GIS_5572\\Labs\\Lab2\\Lab2_take2\\ppt_30yr_SPT_3.nc\", \"PPT_NONE_ZEROS\", \"VALUE\", r\"C:\\Users\\mmMary\\Documents\\GIS_Classes\\GIS_5572\\Labs\\Lab2\\Lab2_take2\\Lab2_take2.gdb\\ppt_30yr_SPT_3_VisualizeSpaceTimeCube3D\")"
   ]
  },
  {
   "cell_type": "code",
   "execution_count": null,
   "metadata": {},
   "outputs": [],
   "source": [
    "# Cube can also be visualized in a 3D scene -- OPTIONAL STEP\n",
    "\n",
    "# Convert layer to a package that can put into the scene\n",
    "\n",
    "arcpy.management.Create3DObjectSceneLayerPackage(r'c:Temp\\ArcGISProTemp22088\\',\n",
    "                                                 r'c:\\ppt_30yr_SPT_3.nc\", \"PPT_NONE_ZEROS\", \"VALUE\", r\"C:\\Users\\mmMary\\Documents\\GIS_Classes\\GIS_5572\\Labs\\Lab2\\Lab2_take2\\Lab2_take2.gdb\\STC_.slpk',\n",
    "                                                 arcpy.SpatialReference(4326), None, 'DESKTOP')\n",
    "\n",
    "arcpy.management.MakeSceneLayer(r\"c:\\Temp\\stc.slpk\", \"Layer_name\")"
   ]
  },
  {
   "cell_type": "code",
   "execution_count": null,
   "metadata": {},
   "outputs": [],
   "source": [
    "# Save the temporary Multi-Dimensional scene layer\n",
    "arcpy.management.SaveToLayerFile(\"ppt_30yr_MultiD_3\", r\"C:\\Users\\mmMary\\Documents\\GIS_Classes\\GIS_5572\\Labs\\Lab2\\Lab2_take2\\ppt_30yr_MultiD_3_Layer.lyrx\", \"ABSOLUTE\", \"CURRENT\")"
   ]
  },
  {
   "cell_type": "markdown",
   "metadata": {},
   "source": [
    "# Export the animation"
   ]
  },
  {
   "cell_type": "code",
   "execution_count": null,
   "metadata": {},
   "outputs": [],
   "source": [
    "# Can this be done with arcpy?"
   ]
  }
 ],
 "metadata": {
  "kernelspec": {
   "display_name": "Python 3",
   "language": "python",
   "name": "python3"
  },
  "language_info": {
   "codemirror_mode": {
    "name": "ipython",
    "version": 3
   },
   "file_extension": ".py",
   "mimetype": "text/x-python",
   "name": "python",
   "nbconvert_exporter": "python",
   "pygments_lexer": "ipython3",
   "version": "3.6.10"
  }
 },
 "nbformat": 4,
 "nbformat_minor": 2
}
