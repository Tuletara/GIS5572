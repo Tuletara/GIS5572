{
 "cells": [
  {
   "cell_type": "markdown",
   "metadata": {},
   "source": [
    "## ETL for MN DNR LIDAR/las data \n",
    "\n",
    "\n",
    "#### https://resources.gisdata.mn.gov/pub/data/elevation/lidar/"
   ]
  },
  {
   "cell_type": "markdown",
   "metadata": {},
   "source": [
    "## Import modules & set workspace"
   ]
  },
  {
   "cell_type": "code",
   "execution_count": null,
   "metadata": {},
   "outputs": [],
   "source": [
    "from ftplib import FTP # For downloading/extracting zip files\n",
    "import arcpy   # For converting las to TIN & DEM\n",
    "\n",
    "# Set workspace to ArcPro folder\n",
    "arcpy.env.workspace = r'C:\\Users\\mmMary\\Documents\\GIS_Classes\\GIS_5572\\Labs\\Lab2\\Lab2_take2.aprx'"
   ]
  },
  {
   "cell_type": "markdown",
   "metadata": {},
   "source": [
    "## Collect & prep data"
   ]
  },
  {
   "cell_type": "code",
   "execution_count": null,
   "metadata": {},
   "outputs": [],
   "source": [
    "# Connect to ftp server\n",
    "\n",
    "ftp = FTP('ftp.lmic.state.mn.us')  # Connect to host with default port\n",
    "ftp.login()                     # Use anonymous credentials\n",
    "'230 Login successful.'\n",
    "ftp.cwd('/pub/data/elevation/lidar/projects/lakeshady/laz/')  # Change into \"lidar\" directory\n",
    "ftp.retrlines('LIST')           # List directory contents\n"
   ]
  },
  {
   "cell_type": "code",
   "execution_count": null,
   "metadata": {},
   "outputs": [],
   "source": [
    "# Download as binary \n",
    "with open('4342-28-47.laz', 'wb') as fp:    \n",
    "    ftp.retrbinary('RETR 4342-28-47.laz', fp.write)  # FTP's RETR command downloads file\n",
    "\n",
    "#ftp.quit()  # Can quit when transfers are complete"
   ]
  },
  {
   "cell_type": "code",
   "execution_count": null,
   "metadata": {},
   "outputs": [],
   "source": [
    "# .Laz must be converted to a .las to be opened in Pro \n",
    "arcpy.conversion.ConvertLas(r\"C:\\Users\\mmMary\\Documents\\GIS_Classes\\GIS_5572\\Labs\\Lab2\\4342-28-47.laz\", r\"C:\\Users\\mmMary\\Documents\\GIS_Classes\\GIS_5572\\Labs\\Lab2\\las_files\", \"SAME_AS_INPUT\", '', \"NO_COMPRESSION\", None, r\"C:\\Users\\mmMary\\Documents\\GIS_Classes\\GIS_5572\\Labs\\Lab2\\las_files\\4342-28-47.lasd\")"
   ]
  },
  {
   "cell_type": "markdown",
   "metadata": {},
   "source": [
    "## Convert .las to TIN"
   ]
  },
  {
   "cell_type": "markdown",
   "metadata": {},
   "source": [
    "### Tool doc for TIN \n",
    "#### arcpy.3d.LasDatasetToTin(in_las_dataset, out_tin, {thinning_type}, {thinning_method}, {thinning_value}, {max_nodes}, {z_factor}, {clip_to_extent})"
   ]
  },
  {
   "cell_type": "code",
   "execution_count": null,
   "metadata": {
    "scrolled": true
   },
   "outputs": [],
   "source": [
    "# Conversion to TIN\n",
    "\n",
    "arcpy.ddd.LasDatasetToTin(\"4342-28-47.lasd\", \"lakeShady_tin\",\"RANDOM\", \"PERCENT\", 20)"
   ]
  },
  {
   "cell_type": "markdown",
   "metadata": {},
   "source": [
    "### Tool doc for DEM\n",
    "#### arcpy.conversion.LasDatasetToRaster(in_las_dataset, out_raster, {value_field}, {interpolation_type}, {data_type}, {sampling_type}, {sampling_value}, {z_factor})"
   ]
  },
  {
   "cell_type": "code",
   "execution_count": null,
   "metadata": {},
   "outputs": [],
   "source": [
    "# Conversion to DEM\n",
    "\n",
    "arcpy.conversion.LasDatasetToRaster(\"4342-28-47.lasd\", \"lakeShady_rast\", \"ELEVATION\", \"BINNING AVERAGE LINEAR\", \"FLOAT\", \"CELLSIZE\", 10, 1)"
   ]
  },
  {
   "cell_type": "markdown",
   "metadata": {},
   "source": [
    "## Create a map layout & export as PDF"
   ]
  },
  {
   "cell_type": "code",
   "execution_count": null,
   "metadata": {},
   "outputs": [],
   "source": [
    "# Create layout - Is this possible in code?"
   ]
  },
  {
   "cell_type": "markdown",
   "metadata": {},
   "source": [
    "### Export as a pdf"
   ]
  },
  {
   "cell_type": "code",
   "execution_count": null,
   "metadata": {},
   "outputs": [],
   "source": [
    "import arcpy\n",
    "# Define the map path\n",
    "aprx = arcpy.mp.ArcGISProject(r\"C:\\Users\\mmMary\\Documents\\GIS_Classes\\GIS_5572\\Labs\\Lab2\\5572_Lab2.aprx\")\n",
    "\n",
    "# Define & reference TIN & DEM map layouts\n",
    "dem = aprx.listLayouts(\"DEM\")[0]  \n",
    "tin = aprx.listLayouts(\"TIN\")[0]\n",
    "\n",
    "# Export layouts to PDF\n",
    "dem.exportToPDF(r\"C:\\Users\\mmMary\\Documents\\GIS_Classes\\GIS_5572\\Labs\\Lab2\\pdfs\\DEM.pdf\", resolution = 300)\n",
    "tin.exportToPDF(r\"C:\\Users\\mmMary\\Documents\\GIS_Classes\\GIS_5572\\Labs\\Lab2\\pdfs\\TIN.pdf\", resolution = 300)"
   ]
  }
 ],
 "metadata": {
  "kernelspec": {
   "display_name": "Python 3",
   "language": "python",
   "name": "python3"
  },
  "language_info": {
   "codemirror_mode": {
    "name": "ipython",
    "version": 3
   },
   "file_extension": ".py",
   "mimetype": "text/x-python",
   "name": "python",
   "nbconvert_exporter": "python",
   "pygments_lexer": "ipython3",
   "version": "3.6.10"
  }
 },
 "nbformat": 4,
 "nbformat_minor": 2
}
